{
  "cells":[
    {
      "cell_type":"markdown",
      "source":[
        "**Лабораторная работа #1**\n",
        "\n",
        "**Задание:**\n",
        "\n",
        "- Реализовать заданный метод сортировки строк числовой матрицы в соответствии с индивидуальным заданием. \n",
        "- Для всех вариантов добавить реализацию быстрой сортировки (quicksort). \n",
        "- Оценить время работы каждого алгоритма сортировки.\n",
        "- Cравнить его со временем стандартной функции сортировки, используемой в выбранном языке программирования (Python)."
      ],
      "metadata":{
        
      }
    },
    {
      "cell_type":"code",
      "source":[
        "def bubble_sort(array):  # Сортировка обменом (bubble sort)\n",
        "    for main_index in range(len(array) - 1):\n",
        "        for index in range(0, len(array) - main_index - 1):\n",
        "            if array[index] > array[index + 1]:\n",
        "                array[index], array[index + 1] = array[index + 1], array[index]\n",
        "    return array"
      ],
      "execution_count":null,
      "outputs":[
        
      ],
      "metadata":{
        
      }
    },
    {
      "cell_type":"code",
      "source":[
        "def default_sort(array):  # Сортировка встроенной функцией .sort\n",
        "    array.sort()\n",
        "    return array"
      ],
      "execution_count":null,
      "outputs":[
        
      ],
      "metadata":{
        
      }
    },
    {
      "cell_type":"code",
      "source":[
        "import random\n",
        "\n",
        "def generate_array(length=100):  # Генерация случайного массива\n",
        "    array = []\n",
        "    while len(array) < length:\n",
        "        array.append(random.randint(0, 1000))\n",
        "    return array\n",
        "\n",
        "init_array = generate_array(1_000)  # Собственно генерация массива в программе"
      ],
      "execution_count":null,
      "outputs":[
        
      ],
      "metadata":{
        
      }
    },
    {
      "cell_type":"markdown",
      "source":[
        "**Вывод**: были изучены методы сортировки, написаны их реализации на языке Python, а также измерено время сортировки (быстрее оказалась сортировка по умолчанию)"
      ],
      "metadata":{
        
      }
    }
  ],
  "metadata":{
    
  },
  "nbformat":4,
  "nbformat_minor":0
}