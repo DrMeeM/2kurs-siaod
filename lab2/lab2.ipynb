{
  "cells":[
    {
      "cell_type":"markdown",
      "source":[
        "# **Лабораторная работа №2.**\n",
        "\n",
        "Цель работы: \n",
        "\n",
        "•\tРеализовать методы поиска в соответствии с заданием. \n",
        "\n",
        "•\tОрганизовать генерацию начального набора случайных данных. \n",
        "\n",
        "•\tДля всех вариантов добавить реализацию добавления, поиска и удаления элементов. \n",
        "\n",
        "•\tОценить время работы каждого алгоритма поиска и сравнить его со временем работы стандартной функции поиска, используемой в выбранном языке программирования.\n",
        "\n",
        "Задание №1: Бинарный поиск, бинарное дерево, фибоначчиев, интерполяционный.\n",
        "\n",
        "Задание №2: Простое рехэширование, рехэширование с помощью, метод цепочек.\n",
        "\n",
        "Задание №3: Расставить на стандартной 64-клеточной шахматной доске 8 ферзей так, чтобы ни один из них не находился под боем другого». Подразумевается, что ферзь бьёт все клетки, расположенные по вертикалям, горизонталям и обеим диагоналям. Написать программу, которая находит хотя бы один способ решения задач.\n",
        "\n"
      ],
      "metadata":{
        
      }
    },
    {
      "cell_type":"markdown",
      "source":[
        "**ЗАДАНИЕ 1.**"
      ],
      "metadata":{
        
      }
    },
    {
      "cell_type":"code",
      "source":[
        "\n",
        "import random\n",
        "\n",
        "def generate_array(length=100):  # генерируем случайный массив\n",
        "    array = []\n",
        "    while len(array) < length:\n",
        "        array.append(random.randint(0, 100))\n",
        "    return array\n",
        "\n",
        "def default_sort(array):  # Сортируем с помощью встроенной функции\n",
        "    ans = array.copy()\n",
        "    ans.sort()\n",
        "    return ans\n",
        "\n",
        "init_array = generate_array(1_00)\n",
        "print(init_array)\n",
        "sorted_array = default_sort(init_array)\n",
        "print(sorted_array)\n",
        "\n"
      ],
      "execution_count":45,
      "outputs":[
        {
          "name":"stdout",
          "text":[
            "[71, 72, 5, 57, 46, 42, 16, 86, 12, 28, 17, 72, 1, 19, 93, 77, 18, 29, 37, 51, 19, 56, 12, 69, 59, 9, 91, 2, 16, 21, 30, 48, 3, 74, 39, 29, 87, 74, 91, 60, 25, 77, 72, 17, 73, 21, 24, 12, 87, 73, 99, 97, 52, 39, 57, 21, 21, 8, 74, 43, 55, 10, 94, 23, 10, 26, 70, 90, 36, 4, 80, 35, 21, 84, 14, 33, 18, 90, 84, 20, 52, 43, 0, 2, 98, 45, 100, 85, 28, 16, 44, 30, 40, 42, 63, 22, 68, 60, 39, 72]\n",
            "[0, 1, 2, 2, 3, 4, 5, 8, 9, 10, 10, 12, 12, 12, 14, 16, 16, 16, 17, 17, 18, 18, 19, 19, 20, 21, 21, 21, 21, 21, 22, 23, 24, 25, 26, 28, 28, 29, 29, 30, 30, 33, 35, 36, 37, 39, 39, 39, 40, 42, 42, 43, 43, 44, 45, 46, 48, 51, 52, 52, 55, 56, 57, 57, 59, 60, 60, 63, 68, 69, 70, 71, 72, 72, 72, 72, 73, 73, 74, 74, 74, 77, 77, 80, 84, 84, 85, 86, 87, 87, 90, 90, 91, 91, 93, 94, 97, 98, 99, 100]\n"
          ],
          "output_type":"stream"
        }
      ],
      "metadata":{
        
      }
    },
    {
      "cell_type":"code",
      "source":[
        "# Бинарный поиск\n",
        "\n",
        "def binary_search(array, element):\n",
        "    arr_length = len(array)\n",
        "    left_bound = 0\n",
        "    right_bound = arr_length\n",
        "    middle = arr_length \/\/ 2\n",
        "    while array[middle] != element:\n",
        "        if right_bound - left_bound == 1: \n",
        "            return -1\n",
        "        if array[middle] > element:\n",
        "            right_bound = middle\n",
        "        else:\n",
        "            left_bound = middle\n",
        "        middle = (right_bound + left_bound) \/\/ 2\n",
        "    return middle\n",
        "def add_element_binary_search(array, element):\n",
        "    arr_length = len(array)\n",
        "    left_bound = 0\n",
        "    right_bound = arr_length\n",
        "    middle = arr_length \/\/ 2\n",
        "    while True:\n",
        "        if right_bound - left_bound == 1:  # поиск окончен, добавляем элемент в нужную часть\n",
        "            if right_bound == arr_length and element > array[arr_length - 1]:  # частный случай: добавление в конец\n",
        "                return array + [element]\n",
        "            if left_bound == 0 and element < array[0]:  # частный случай: добавление в начало\n",
        "                return [element] + array\n",
        "            return array[:right_bound] + [element] + array[right_bound:]\n",
        "\n",
        "        if array[middle] > element:\n",
        "            right_bound = middle\n",
        "        else:\n",
        "            left_bound = middle\n",
        "        middle = (right_bound + left_bound) \/\/ 2\n",
        "\n",
        "\n",
        "def remove_element_binary_search(array, element):\n",
        "    i = binary_search(array, element)\n",
        "    if i == -1:\n",
        "        return array\n",
        "    else:\n",
        "        return array[:i] + array[(i + 1):]"
      ],
      "execution_count":46,
      "outputs":[
        
      ],
      "metadata":{
        
      }
    },
    {
      "cell_type":"code",
      "source":[
        "# Пример бинарного поиска\n",
        "element_to_search_1 = 10\n",
        "element_to_search_2 = 1\n",
        "binary_search_array = default_sort(init_array)\n",
        "print(binary_search_array)\n",
        "\n",
        "print('Элемент %i имеет индекс %i' % (element_to_search_1, binary_search(binary_search_array, element_to_search_1)))\n",
        "print('Элемент %i имеет индекс %i' % (element_to_search_2, binary_search(binary_search_array, element_to_search_2)))"
      ],
      "execution_count":47,
      "outputs":[
        {
          "name":"stdout",
          "text":[
            "[0, 1, 2, 2, 3, 4, 5, 8, 9, 10, 10, 12, 12, 12, 14, 16, 16, 16, 17, 17, 18, 18, 19, 19, 20, 21, 21, 21, 21, 21, 22, 23, 24, 25, 26, 28, 28, 29, 29, 30, 30, 33, 35, 36, 37, 39, 39, 39, 40, 42, 42, 43, 43, 44, 45, 46, 48, 51, 52, 52, 55, 56, 57, 57, 59, 60, 60, 63, 68, 69, 70, 71, 72, 72, 72, 72, 73, 73, 74, 74, 74, 77, 77, 80, 84, 84, 85, 86, 87, 87, 90, 90, 91, 91, 93, 94, 97, 98, 99, 100]\n",
            "Элемент 10 имеет индекс 9\n",
            "Элемент 1 имеет индекс 1\n"
          ],
          "output_type":"stream"
        }
      ],
      "metadata":{
        
      }
    },
    {
      "cell_type":"code",
      "source":[
        "# класс и функции для бинарного дерева\n",
        "\n",
        "class Node:\n",
        "    def __init__(self, key):\n",
        "        self.left = None\n",
        "        self.right = None\n",
        "        self.val = key\n",
        "\n",
        "def make_binary_tree(array):\n",
        "    rr = Node(None)\n",
        "    for x in array:\n",
        "        rr = add_element_binary_tree(rr, x)\n",
        "    return rr\n",
        "\n",
        "def print_node(node):\n",
        "    if node is None or node.val is None:\n",
        "        print(\"Н\", end=\" \")\n",
        "    else:\n",
        "        print(node.val, end=\" \")\n",
        "\n",
        "def print_binary_tree(*nodes):\n",
        "    new_nodes = []\n",
        "    for node in nodes:\n",
        "        print_node(node)\n",
        "        if node is not None:\n",
        "            new_nodes.append(node.left)\n",
        "            new_nodes.append(node.right)\n",
        "\n",
        "\n",
        "        else:\n",
        "            new_nodes.append(None)\n",
        "            new_nodes.append(None)\n",
        "    print(\" \")\n",
        "\n",
        "    if not new_nodes or not all(x is None for x in new_nodes):\n",
        "        print_binary_tree(*new_nodes)\n",
        "\n",
        "# поиск элемента в бинарном дереве\n",
        "def binary_tree_search(root, key): \n",
        "    if root is None or root.val == key:  # возвращает найденный эл., и None если эл. не найден\n",
        "        return root\n",
        "    if root.val <= key:  # поиск...\n",
        "        return binary_tree_search(root.right, key)\n",
        "    return binary_tree_search(root.left, key)\n",
        "\n",
        "# добавить элемент\n",
        "def add_element_binary_tree(root, key):\n",
        "    if root is None:\n",
        "        return Node(key)\n",
        "    if root.val is None:\n",
        "        return Node(key)\n",
        "    else:\n",
        "        if root.val < key:\n",
        "            root.right = add_element_binary_tree(root.right, key)\n",
        "        else:\n",
        "            root.left = add_element_binary_tree(root.left, key)\n",
        "    return root\n",
        "\n",
        "# удалить элемент\n",
        "def remove_element_binary_tree_search(root, key):\n",
        "    if root is None:\n",
        "        return root\n",
        "\n",
        "    if key < root.val:\n",
        "        root.left = remove_element_binary_tree_search(root.left, key)\n",
        "    elif key > root.val:\n",
        "        root.right = remove_element_binary_tree_search(root.right, key)\n",
        "    else:\n",
        "        # случаи: у родителя только 1 ребёнок\n",
        "        if root.left is None:\n",
        "            buffer = root.right\n",
        "            root = None\n",
        "            return buffer\n",
        "\n",
        "\n",
        "        elif root.right is None:  # в любой непонятной ситуации бери левого ребёнка\n",
        "            buffer = root.left\n",
        "            root = None\n",
        "            return buffer\n",
        "        # случай: у родителя 2 ребёнка\n",
        "        min_node = root.right\n",
        "        # ищем минимальный элемент справа\n",
        "        while min_node.left is not None:\n",
        "            min_node = min_node.left\n",
        "        root.val = min_node.val\n",
        "        root.right = remove_element_binary_tree_search(root.right, min_node.val)\n",
        "    return root\n"
      ],
      "execution_count":48,
      "outputs":[
        
      ],
      "metadata":{
        
      }
    },
    {
      "cell_type":"code",
      "source":[
        "# пример бинарного древа\n",
        "array_for_tree = generate_array(10)\n",
        "element_to_search = 50\n",
        "r = make_binary_tree(array_for_tree)\n",
        "print('бинарное дерево из массива')\n",
        "print_binary_tree(r)\n",
        "r = add_element_binary_tree(r, 5)\n",
        "print('добавляем элемент 5')\n",
        "print_binary_tree(r)\n",
        "r = remove_element_binary_tree_search(r, 5)\n",
        "print('убираем элемент 5')\n",
        "print_binary_tree(r)\n",
        "\n",
        "r = add_element_binary_tree(r, 50)\n",
        "print('ищем элемент %i' % element_to_search)\n",
        "print_node(binary_tree_search(r, element_to_search))\n"
      ],
      "execution_count":49,
      "outputs":[
        {
          "name":"stdout",
          "text":[
            "бинарное дерево из массива\n",
            "55  \n",
            "7 Н  \n",
            "3 37 Н Н  \n",
            "Н Н 28 51 Н Н Н Н  \n",
            "Н Н Н Н 19 30 45 Н Н Н Н Н Н Н Н Н  \n",
            "Н Н Н Н Н Н Н Н Н Н Н Н Н 49 Н Н Н Н Н Н Н Н Н Н Н Н Н Н Н Н Н Н  \n",
            "добавляем элемент 5\n",
            "55  \n",
            "7 Н  \n",
            "3 37 Н Н  \n",
            "Н 5 28 51 Н Н Н Н  \n",
            "Н Н Н Н 19 30 45 Н Н Н Н Н Н Н Н Н  \n",
            "Н Н Н Н Н Н Н Н Н Н Н Н Н 49 Н Н Н Н Н Н Н Н Н Н Н Н Н Н Н Н Н Н  \n",
            "убираем элемент 5\n",
            "55  \n",
            "7 Н  \n",
            "3 37 Н Н  \n",
            "Н Н 28 51 Н Н Н Н  \n",
            "Н Н Н Н 19 30 45 Н Н Н Н Н Н Н Н Н  \n",
            "Н Н Н Н Н Н Н Н Н Н Н Н Н 49 Н Н Н Н Н Н Н Н Н Н Н Н Н Н Н Н Н Н  \n",
            "ищем элемент 50\n",
            "50 "
          ],
          "output_type":"stream"
        }
      ],
      "metadata":{
        
      }
    },
    {
      "cell_type":"code",
      "source":[
        "# Фибоначчиев поиск\n",
        "def fibonacci_search(array, element):\n",
        "    arr_length = len(array)\n",
        "    fpast = 0\n",
        "    fnow = 1\n",
        "    while True:  # пытаемся найти промежуток, где находится наше значение\n",
        "        if fnow >= arr_length:  # дошли до конца массива промежутком\n",
        "            if array[arr_length - 1] < element:\n",
        "                return -1\n",
        "            else:\n",
        "                fnow = arr_length - 1\n",
        "                break\n",
        "        if array[fnow] >= element:\n",
        "            break\n",
        "        buffer = fnow\n",
        "        fnow = fnow + fpast\n",
        "        fpast = buffer\n",
        "\n",
        "    for i in range(fpast, fnow + 1):\n",
        "        if array[i] == element:\n",
        "            return i\n",
        "    return -1"
      ],
      "execution_count":50,
      "outputs":[
        
      ],
      "metadata":{
        
      }
    },
    {
      "cell_type":"code",
      "source":[
        "# пример Фибоначчи поиска\n",
        "fibonacci_array = default_sort(init_array)\n",
        "print(fibonacci_array)\n",
        "element_to_search = 4\n",
        "print('Элемент %i имеет индекс %i' % (element_to_search, fibonacci_search(fibonacci_array, element_to_search)))"
      ],
      "execution_count":51,
      "outputs":[
        {
          "name":"stdout",
          "text":[
            "[0, 1, 2, 2, 3, 4, 5, 8, 9, 10, 10, 12, 12, 12, 14, 16, 16, 16, 17, 17, 18, 18, 19, 19, 20, 21, 21, 21, 21, 21, 22, 23, 24, 25, 26, 28, 28, 29, 29, 30, 30, 33, 35, 36, 37, 39, 39, 39, 40, 42, 42, 43, 43, 44, 45, 46, 48, 51, 52, 52, 55, 56, 57, 57, 59, 60, 60, 63, 68, 69, 70, 71, 72, 72, 72, 72, 73, 73, 74, 74, 74, 77, 77, 80, 84, 84, 85, 86, 87, 87, 90, 90, 91, 91, 93, 94, 97, 98, 99, 100]\n",
            "Элемент 4 имеет индекс 5\n"
          ],
          "output_type":"stream"
        }
      ],
      "metadata":{
        
      }
    },
    {
      "cell_type":"code",
      "source":[
        "# интерполяционный поиск\n",
        "def interpolation_search(array, element):\n",
        "    low = 0\n",
        "    high = len(array) - 1\n",
        "    while array[low] < element < array[high]:\n",
        "        if array[high] == array[low]:\n",
        "            break\n",
        "        mid = low + ((element - array[low]) * (high - low) \/\/ (array[high] - array[low]))\n",
        "        if array[mid] < element:\n",
        "            low = mid + 1\n",
        "        elif array[mid] > element:\n",
        "            high = mid - 1\n",
        "        else:\n",
        "            return mid\n",
        "    if array[low] == element:\n",
        "        return low\n",
        "    if array[high] == element:\n",
        "        return high\n",
        "\n",
        "    return -1"
      ],
      "execution_count":52,
      "outputs":[
        
      ],
      "metadata":{
        
      }
    },
    {
      "cell_type":"code",
      "source":[
        "# пример интерполяционного поиска\n",
        "interpolated_array = default_sort(init_array)\n",
        "print(interpolated_array)\n",
        "element_to_search = 4\n",
        "\n",
        "print('Элемент %i имеет индекс %i' % (element_to_search, interpolation_search(interpolated_array, element_to_search)))"
      ],
      "execution_count":53,
      "outputs":[
        {
          "name":"stdout",
          "text":[
            "[0, 1, 2, 2, 3, 4, 5, 8, 9, 10, 10, 12, 12, 12, 14, 16, 16, 16, 17, 17, 18, 18, 19, 19, 20, 21, 21, 21, 21, 21, 22, 23, 24, 25, 26, 28, 28, 29, 29, 30, 30, 33, 35, 36, 37, 39, 39, 39, 40, 42, 42, 43, 43, 44, 45, 46, 48, 51, 52, 52, 55, 56, 57, 57, 59, 60, 60, 63, 68, 69, 70, 71, 72, 72, 72, 72, 73, 73, 74, 74, 74, 77, 77, 80, 84, 84, 85, 86, 87, 87, 90, 90, 91, 91, 93, 94, 97, 98, 99, 100]\n",
            "Элемент 4 имеет индекс 5\n"
          ],
          "output_type":"stream"
        }
      ],
      "metadata":{
        
      }
    },
    {
      "cell_type":"code",
      "source":[
        "# сравнение времени поисков\n",
        "import timeit\n",
        "our_element = random.randint(0,100)\n",
        "our_array = default_sort(generate_array(100))\n",
        "print('ищем %i в массиве %a' %(our_element, our_array))\n",
        "r = make_binary_tree(our_array)\n",
        "print(\"Двоичный поиск             \" + \n",
        "str(timeit.timeit(\"binary_search(binary_search_array, our_element)\", number=1, globals=globals())))\n",
        "print(\"Поиск в бинарном дереве   \" + \n",
        "str(timeit.timeit(\"binary_tree_search(r, our_element)\", number=1, globals=globals())))\n",
        "print(\"Фибоначчиев поиск          \" + \n",
        "str(timeit.timeit(\"fibonacci_search(binary_search_array, our_element)\", number=1, globals=globals())))\n",
        "print(\"Интерполяционный поиск     \" + \n",
        "str(timeit.timeit(\"interpolation_search(binary_search_array, our_element)\", number=1, globals=globals())))\n",
        "print(\"Поиск по умолчанию         \" + \n",
        "str(timeit.timeit(\"our_array.__contains__(our_element)\", number=1, globals=globals())))"
      ],
      "execution_count":54,
      "outputs":[
        {
          "name":"stdout",
          "text":[
            "ищем 23 в массиве [1, 1, 1, 1, 1, 2, 3, 5, 6, 7, 7, 7, 9, 9, 9, 10, 12, 12, 14, 16, 21, 21, 21, 22, 23, 23, 24, 24, 25, 26, 28, 29, 30, 31, 31, 35, 35, 36, 36, 36, 41, 43, 44, 45, 47, 48, 48, 48, 50, 50, 50, 51, 51, 51, 52, 52, 53, 54, 54, 54, 54, 57, 60, 63, 64, 64, 65, 65, 67, 68, 69, 70, 70, 71, 72, 73, 73, 74, 74, 75, 77, 77, 80, 81, 82, 83, 83, 83, 83, 85, 87, 88, 88, 89, 92, 92, 93, 96, 96, 99]\n",
            "Двоичный поиск             4.050000143251964e-06\n",
            "Поиск в бинарном дереве   5.5699999848002335e-06\n",
            "Фибоначчиев поиск          5.959999953120132e-06\n",
            "Интерполяционный поиск     5.859999873791821e-06\n",
            "Поиск по умолчанию         2.9499999527615728e-06\n"
          ],
          "output_type":"stream"
        }
      ],
      "metadata":{
        
      }
    },
    {
      "cell_type":"markdown",
      "source":[
        "# Задание 2."
      ],
      "metadata":{
        
      }
    },
    {
      "cell_type":"code",
      "source":[
        "class ClassForRehash:\n",
        "    \n",
        "    def __init__(self, value1):\n",
        "        self.value1 = value1\n",
        "        self.hash = int((((value1 % ClassForRehash.MAX_HASH_TABLE) * 331) & 127) % ClassForRehash.MAX_HASH_TABLE)\n",
        "\n",
        "    MAX_HASH_TABLE = 8"
      ],
      "execution_count":55,
      "outputs":[
        
      ],
      "metadata":{
        
      }
    },
    {
      "cell_type":"code",
      "source":[
        "# простое рехеширование\n",
        "class SimpleRehashTable:\n",
        "    def __init__(self, length):\n",
        "        self.table = [None] * length\n",
        "\n",
        "    def add_el(self, element):\n",
        "        original_hash = element.hash\n",
        "        if self.table[original_hash] is None:\n",
        "            self.table[original_hash] = element\n",
        "            print(\"объект со значением %i имеет хэш: %i (рехеширование не требовалось)\"\n",
        "                  % (self.table[original_hash].value1, element.hash))\n",
        "            return\n",
        "\n",
        "        new_hash = original_hash + 1\n",
        "        while new_hash != original_hash:\n",
        "            if new_hash >= len(self.table):\n",
        "                new_hash = 0\n",
        "                continue\n",
        "            if self.table[new_hash] is None:\n",
        "                element.hash = new_hash\n",
        "                self.table[new_hash] = element\n",
        "                print(\"объект со значением %i имеет хэш: %i (рехешировано. коллизия была в хеше: %i)\"\n",
        "                      % (self.table[new_hash].value1, element.hash, original_hash))\n",
        "                return\n",
        "            new_hash += 1\n",
        "        print(\"таблица заполнена!\")\n",
        "        return\n",
        "\n",
        "simple_re = SimpleRehashTable(ClassForRehash.MAX_HASH_TABLE)\n",
        "for i in range(len(simple_re.table) + 2):\n",
        "    simple_re.add_el(ClassForRehash(random.randint(0, 9)))"
      ],
      "execution_count":56,
      "outputs":[
        {
          "name":"stdout",
          "text":[
            "объект со значением 8 имеет хэш: 0 (рехеширование не требовалось)\n",
            "объект со значением 5 имеет хэш: 7 (рехеширование не требовалось)\n",
            "объект со значением 1 имеет хэш: 3 (рехеширование не требовалось)\n",
            "объект со значением 1 имеет хэш: 4 (рехешировано. коллизия была в хеше: 3)\n",
            "объект со значением 1 имеет хэш: 5 (рехешировано. коллизия была в хеше: 3)\n",
            "объект со значением 0 имеет хэш: 1 (рехешировано. коллизия была в хеше: 0)\n",
            "объект со значением 7 имеет хэш: 6 (рехешировано. коллизия была в хеше: 5)\n",
            "объект со значением 7 имеет хэш: 2 (рехешировано. коллизия была в хеше: 5)\n",
            "таблица заполнена!\n",
            "таблица заполнена!\n"
          ],
          "output_type":"stream"
        }
      ],
      "metadata":{
        
      }
    },
    {
      "cell_type":"code",
      "source":[
        "# рандомное рехеширование\n",
        "class RandomRehashTable:\n",
        "\n",
        "    def __init__(self, length):\n",
        "        self.table = [None] * length\n",
        "\n",
        "    def add_el(self, element):\n",
        "        original_hash = element.hash\n",
        "        if self.table[original_hash] is None:\n",
        "            self.table[original_hash] = element\n",
        "            print(\"объект со значением %i имеет хэш: %i (рехеширование не требовалось)\"\n",
        "                  % (self.table[original_hash].value1, original_hash))\n",
        "            return\n",
        "\n",
        "        table_len = len(self.table)\n",
        "        r = 1\n",
        "        for ii in range(10):  # range(число попыток определить новый хеш)\n",
        "            r *= 5\n",
        "            r = r % (4 * table_len)\n",
        "            new_hash = r \/\/ 4\n",
        "            if self.table[new_hash] is None:\n",
        "                element.hash = new_hash\n",
        "                self.table[new_hash] = element\n",
        "                print(\"объект со значением %i имеет хэш: %i (рехешировано. коллизия была в хеше: %i)\"\n",
        "                      % (self.table[new_hash].value1, element.hash, original_hash))\n",
        "                return\n",
        "        print(\"Не удалось найти свободный хеш в таблице!\")\n",
        "        return\n",
        "\n",
        "random_re = RandomRehashTable(ClassForRehash.MAX_HASH_TABLE)\n",
        "for i in range(len(random_re.table) + 2):\n",
        "    random_re.add_el(ClassForRehash(random.randint(0, 9)))"
      ],
      "execution_count":57,
      "outputs":[
        {
          "name":"stdout",
          "text":[
            "объект со значением 0 имеет хэш: 0 (рехеширование не требовалось)\n",
            "объект со значением 2 имеет хэш: 6 (рехеширование не требовалось)\n",
            "объект со значением 5 имеет хэш: 7 (рехеширование не требовалось)\n",
            "объект со значением 6 имеет хэш: 2 (рехеширование не требовалось)\n",
            "объект со значением 1 имеет хэш: 3 (рехеширование не требовалось)\n",
            "объект со значением 0 имеет хэш: 1 (рехешировано. коллизия была в хеше: 0)\n",
            "объект со значением 1 имеет хэш: 4 (рехешировано. коллизия была в хеше: 3)\n",
            "объект со значением 8 имеет хэш: 5 (рехешировано. коллизия была в хеше: 0)\n",
            "Не удалось найти свободный хеш в таблице!\n",
            "Не удалось найти свободный хеш в таблице!\n"
          ],
          "output_type":"stream"
        }
      ],
      "metadata":{
        
      }
    },
    {
      "cell_type":"code",
      "source":[
        "# метод цепочек\n",
        "class ChainRehashTable:\n",
        "\n",
        "    def __init__(self, length):\n",
        "        self.table = [None] * length\n",
        "    def add_el(self, element):\n",
        "        original_hash = element.hash\n",
        "        if self.table[original_hash] is None:\n",
        "            self.table[original_hash] = [element]\n",
        "            return\n",
        "        else:\n",
        "            length = len(self.table[original_hash])\n",
        "            self.table[original_hash].append(element)\n",
        "            return\n",
        "\n",
        "chain_re = ChainRehashTable(ClassForRehash.MAX_HASH_TABLE)\n",
        "for i in range(len(chain_re.table) + 2):\n",
        "    chain_re.add_el(ClassForRehash(random.randint(0, 9)))\n",
        "hash = 0\n",
        "for x in chain_re.table:  # вывод хеш таблицы для метода цепочек\n",
        "    print(\"[hash: %i]\" % hash, end=\" \")\n",
        "    if x is None:\n",
        "        print(\"Empty\")\n",
        "    else:\n",
        "        for y in x:\n",
        "            print(y.value1, end=\" \")\n",
        "        print(\"\")\n",
        "    hash += 1"
      ],
      "execution_count":58,
      "outputs":[
        {
          "name":"stdout",
          "text":[
            "[hash: 0] 0 8 \n",
            "[hash: 1] 3 3 \n",
            "[hash: 2] 6 6 \n",
            "[hash: 3] 1 \n",
            "[hash: 4] 4 \n",
            "[hash: 5] Empty\n",
            "[hash: 6] 2 \n",
            "[hash: 7] 5 \n"
          ],
          "output_type":"stream"
        }
      ],
      "metadata":{
        
      }
    },
    {
      "cell_type":"markdown",
      "source":[
        "# Задание 3."
      ],
      "metadata":{
        
      }
    },
    {
      "cell_type":"code",
      "source":[
        "def queens_gambit(array):\n",
        "    \"\"\"\n",
        "    пересчитывает клетки под атакой на всём поле\n",
        "    \"\"\"\n",
        "    length = len(array)\n",
        "    for y in range(length):  # очищаем закрытые клетки\n",
        "        for x in range(length):\n",
        "            if array[y][x] == 1:\n",
        "                array[y][x] = 0\n",
        "    for y in range(length):  # закрываем клетки\n",
        "        for x in range(length):\n",
        "            if array[y][x] == 2:\n",
        "                buffer = 0\n",
        "                for i in range(length):\n",
        "                    if array[i][x] == 0:  # закрываем клетки по вертикали\n",
        "                        array[i][x] = 1\n",
        "                    if array[y][i] == 0:  # закрываем клетки по горизонтали\n",
        "                        array[y][i] = 1\n",
        "                    # закрываем клетки по диагонали \\\n",
        "                    if x >= y and length > x - y + i >= 0:  # королева в верхней правой части доски\n",
        "                        if array[i][x - y + i] == 0:\n",
        "                            array[i][x - y + i] = 1\n",
        "                    elif length > y - x + i >= 0:  # королева в нижней левой части доски\n",
        "                        if array[y - x + i][i] == 0:\n",
        "                            array[y - x + i][i] = 1\n",
        "                    # закрываем клетки по диагонали \/\n",
        "                    if x + y <= length and length > x + y - i >= 0:  # королева в верхней левой части доски\n",
        "                        if array[i][x + y - i] == 0:\n",
        "                            array[i][x + y - i] = 1\n",
        "                    elif length > y + x - i >= 0:  # королева в нижней правой части доски\n",
        "                        if array[y + x - i][i] == 0:\n",
        "                            array[y + x - i][i] = 1\n",
        "\n",
        "\n",
        "\n",
        "def filling_queens(array, queens_amount):\n",
        "    length = len(array)\n",
        "    for y in range(length):\n",
        "        for x in range(length):\n",
        "            if array[y][x] == 0:  # нашли свободное место для королевы\n",
        "                array[y][x] = 2\n",
        "                queens_amount -= 1\n",
        "                queens_gambit(array)\n",
        "                if queens_amount == 0:  # королев не осталось\n",
        "                    return 1  # королевы успешно расставленны\n",
        "                if filling_queens(array, queens_amount) == 1:\n",
        "                    return 1  # королевы успешно расставленны\n",
        "                else:\n",
        "                    array[y][x] = 0\n",
        "                    queens_amount += 1\n",
        "                    queens_gambit(array)\n",
        "    return -1  # неудача\n",
        "\n",
        "\n",
        "def chess_2(board_length, queens_amount):\n",
        "    board = [0] * board_length\n",
        "    for i in range(board_length):  # формируем нашу доску как массив из массивов\n",
        "        board[i] = [0] * board_length\n",
        "    if filling_queens(board, queens_amount) == 1:  # ищем доску\n",
        "        print(\"Комбинация найдена!\")\n",
        "    else:\n",
        "        print(\"Комбинации не существует!\")\n",
        "    return board\n",
        "\n",
        "class Colors:\n",
        "    WHITE = '\\u001b[47m'\n",
        "    BLACK = '\\u001b[48m'\n",
        "    BLUE = '\\u001b[44m'\n",
        "    RED = '\\u001b[41m'\n",
        "    RESET = '\\u001b[0m'\n",
        "    \n",
        "our_board = chess_2(8, 8)\n",
        "white_f = False\n",
        "for y in our_board:\n",
        "    for x in y:\n",
        "        if white_f:\n",
        "            white_f = False\n",
        "        else:\n",
        "            white_f = True\n",
        "        if x == 0:\n",
        "            if white_f:\n",
        "                print(Colors.WHITE + \" O \" + Colors.RESET, end='')\n",
        "\n",
        "\n",
        "            else:\n",
        "                print(Colors.BLACK + \" O \" + Colors.RESET, end='')\n",
        "        elif x == 1:\n",
        "            print(Colors.RED + \" C \" + Colors.RESET, end='')\n",
        "        else:\n",
        "            print(Colors.BLUE + \" Q \" + Colors.RESET, end='')\n",
        "    print('')\n",
        "    if white_f:\n",
        "        white_f = False\n",
        "    else:\n",
        "        white_f = True"
      ],
      "execution_count":59,
      "outputs":[
        {
          "name":"stdout",
          "text":[
            "Комбинация найдена!\n",
            "\u001b[44m Q \u001b[0m\u001b[41m C \u001b[0m\u001b[41m C \u001b[0m\u001b[41m C \u001b[0m\u001b[41m C \u001b[0m\u001b[41m C \u001b[0m\u001b[41m C \u001b[0m\u001b[41m C \u001b[0m\n",
            "\u001b[41m C \u001b[0m\u001b[41m C \u001b[0m\u001b[41m C \u001b[0m\u001b[41m C \u001b[0m\u001b[44m Q \u001b[0m\u001b[41m C \u001b[0m\u001b[41m C \u001b[0m\u001b[41m C \u001b[0m\n",
            "\u001b[41m C \u001b[0m\u001b[41m C \u001b[0m\u001b[41m C \u001b[0m\u001b[41m C \u001b[0m\u001b[41m C \u001b[0m\u001b[41m C \u001b[0m\u001b[41m C \u001b[0m\u001b[44m Q \u001b[0m\n",
            "\u001b[41m C \u001b[0m\u001b[41m C \u001b[0m\u001b[41m C \u001b[0m\u001b[41m C \u001b[0m\u001b[41m C \u001b[0m\u001b[44m Q \u001b[0m\u001b[41m C \u001b[0m\u001b[41m C \u001b[0m\n",
            "\u001b[41m C \u001b[0m\u001b[41m C \u001b[0m\u001b[44m Q \u001b[0m\u001b[41m C \u001b[0m\u001b[41m C \u001b[0m\u001b[41m C \u001b[0m\u001b[41m C \u001b[0m\u001b[41m C \u001b[0m\n",
            "\u001b[41m C \u001b[0m\u001b[41m C \u001b[0m\u001b[41m C \u001b[0m\u001b[41m C \u001b[0m\u001b[41m C \u001b[0m\u001b[41m C \u001b[0m\u001b[44m Q \u001b[0m\u001b[41m C \u001b[0m\n",
            "\u001b[41m C \u001b[0m\u001b[44m Q \u001b[0m\u001b[41m C \u001b[0m\u001b[41m C \u001b[0m\u001b[41m C \u001b[0m\u001b[41m C \u001b[0m\u001b[41m C \u001b[0m\u001b[41m C \u001b[0m\n",
            "\u001b[41m C \u001b[0m\u001b[41m C \u001b[0m\u001b[41m C \u001b[0m\u001b[44m Q \u001b[0m\u001b[41m C \u001b[0m\u001b[41m C \u001b[0m\u001b[41m C \u001b[0m\u001b[41m C \u001b[0m\n"
          ],
          "output_type":"stream"
        }
      ],
      "metadata":{
        
      }
    },
    {
      "cell_type":"markdown",
      "source":[
        "Вывод: были изучены методы поиска и рехэширования, написаны их реализации на языке Python, а также измерено время поиска."
      ],
      "metadata":{
        
      }
    }
  ],
  "metadata":{
    
  },
  "nbformat":4,
  "nbformat_minor":0
}