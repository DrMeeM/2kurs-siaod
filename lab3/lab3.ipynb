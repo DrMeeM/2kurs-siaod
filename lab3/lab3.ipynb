{
  "cells":[
    {
      "cell_type":"markdown",
      "source":[
        "## Лабораторная работа №3. Методы поиска подстроки в строке\n",
        "\n",
        "## Задание: \n",
        "- Реализовать методы поиска подстроки в строке. \n",
        "- Добавить возможность ввода строки и подстроки с клавиатуры. \n",
        "- Предусмотреть возможность существования пробела. \n",
        "- Реализовать возможность выбора опции чувствительности\/нечувствительности к регистру. \n",
        "- Оценить время работы каждого алгоритма поиска.\n",
        "- Cравнить его со временем работы стандартной функции поиска, используемой в выбранном языке программирования.\n",
        "\n",
        "Алгоритмы:\n",
        "1. Кнута-Морриса-Пратта\n",
        "2. Упрощенный Бойера-Мура\n"
      ],
      "metadata":{
        
      }
    },
    {
      "cell_type":"markdown",
      "source":[
        "## Ввод с клавиатуры"
      ],
      "metadata":{
        
      }
    },
    {
      "cell_type":"code",
      "source":[
        "main_string = 'Our BIG string which contains this word and also that word (big)'\n",
        "string_to_find = 'big'\n",
        "is_case_sensitive = False\n",
        "\n",
        "print('enter main string or leave empty for default string')\n",
        "buffer = input()\n",
        "if buffer != '':\n",
        "    main_string = buffer\n",
        "    buffer = ''\n",
        "print('enter string to find or leave empty for default string')\n",
        "buffer = input()\n",
        "if buffer != '':\n",
        "    string_to_find = buffer\n",
        "    buffer = ''\n",
        "\n",
        "print('should a search be case sensitive? Yes:(input \"Y\") No:(input anything else)')\n",
        "buffer = input()\n",
        "if buffer == 'Y':\n",
        "    is_case_sensitive = True"
      ],
      "execution_count":1,
      "outputs":[
        {
          "name":"stdout",
          "text":[
            "enter main string or leave empty for default string\n",
            " Our BIG string which contains this word and also that word (big)\n",
            "enter string to find or leave empty for default string\n",
            " big\n",
            "should a search be case sensitive? Yes:(input \"Y\") No:(input anything else)\n",
            " Y\n"
          ],
          "output_type":"stream"
        }
      ],
      "metadata":{
        
      }
    },
    {
      "cell_type":"markdown",
      "source":[
        "## Алгоритм 1: Кнута-Морриса-Пратта"
      ],
      "metadata":{
        
      }
    },
    {
      "cell_type":"code",
      "source":[
        "def prefix(s):\n",
        "    str_prefix = [0]*len(s)\n",
        "    for i in range(1, len(s)):\n",
        "        k = str_prefix[i-1]\n",
        "        while k > 0 and s[k] != s[i]:\n",
        "            k = str_prefix[k-1]\n",
        "        if s[k] == s[i]:\n",
        "            k = k + 1\n",
        "        str_prefix[i] = k\n",
        "    return str_prefix\n",
        "\n",
        "\n",
        "def kmp(s_main, s_sought, case_sensitive=True):\n",
        "    if not case_sensitive:\n",
        "        s_main = s_main.lower()\n",
        "        s_sought = s_sought.lower()\n",
        "\n",
        "    index = -1\n",
        "    str_prefix = prefix(s_main)\n",
        "    k = 0\n",
        "    for i in range(len(s_sought)):\n",
        "        while k > 0 and s_main[k] != s_sought[i]:\n",
        "            k = str_prefix[k-1]\n",
        "        if s_main[k] == s_sought[i]:\n",
        "            k = k + 1\n",
        "        if k == len(s_main):\n",
        "            index = i - len(s_main) + 1\n",
        "            break\n",
        "    return index"
      ],
      "execution_count":2,
      "outputs":[
        
      ],
      "metadata":{
        
      }
    },
    {
      "cell_type":"code",
      "source":[
        "print(kmp(string_to_find, main_string, is_case_sensitive))\n",
        "print(kmp(string_to_find, main_string, False))"
      ],
      "execution_count":3,
      "outputs":[
        {
          "name":"stdout",
          "text":[
            "60\n",
            "4\n"
          ],
          "output_type":"stream"
        }
      ],
      "metadata":{
        
      }
    },
    {
      "cell_type":"markdown",
      "source":[
        "## Алгоритм 2: Бойера-Мура"
      ],
      "metadata":{
        
      }
    },
    {
      "cell_type":"code",
      "source":[
        "def build_table(s):\n",
        "    dic_table = dict()\n",
        "    length = len(s)\n",
        "    for i in range(length - 1):\n",
        "        dic_table[s[i]] = length - i - 1\n",
        "    if not s[length - 1] in dic_table:\n",
        "        dic_table[s[length - 1]] = length\n",
        "    return dic_table\n",
        "\n",
        "\n",
        "def boyer_mur_search(s_main, s_sought, case_sensitive=True):\n",
        "    if not case_sensitive:\n",
        "        s_main = s_main.lower()\n",
        "        s_sought = s_sought.lower()\n",
        "\n",
        "    dic_table = build_table(s_sought)\n",
        "    s_sought_len = len(s_sought)\n",
        "    current_step = s_sought_len - 1\n",
        "\n",
        "    while current_step < len(s_main):  # основной цикл для поиска подстроки\n",
        "\n",
        "        s_sought_i = s_sought_len - 1  # индекс для подстроки\n",
        "        for i in range(current_step, current_step - s_sought_len, -1):\n",
        "            if s_main[i] != s_sought[s_sought_i]:  # слово не совпало. Указываем необходимый шаг и выходим из for\n",
        "                if s_main[i] in dic_table:\n",
        "                    step = dic_table[s_main[i]]\n",
        "                else:\n",
        "                    step = s_sought_len\n",
        "                break\n",
        "\n",
        "            if i == current_step - s_sought_len + 1:  # последняя итерация for. Все символы совпали, возвращаем индекс\n",
        "                return i\n",
        "            s_sought_i -= 1\n",
        "\n",
        "        current_step += step  # двигаем место поиска на шаг"
      ],
      "execution_count":4,
      "outputs":[
        
      ],
      "metadata":{
        
      }
    },
    {
      "cell_type":"code",
      "source":[
        "print(boyer_mur_search(main_string, string_to_find, case_sensitive=is_case_sensitive))\n",
        "print(boyer_mur_search(main_string, string_to_find, case_sensitive=False))"
      ],
      "execution_count":5,
      "outputs":[
        {
          "name":"stdout",
          "text":[
            "60\n",
            "4\n"
          ],
          "output_type":"stream"
        }
      ],
      "metadata":{
        
      }
    },
    {
      "cell_type":"code",
      "source":[
        
      ],
      "execution_count":5,
      "outputs":[
        
      ],
      "metadata":{
        
      }
    }
  ],
  "metadata":{
    
  },
  "nbformat":4,
  "nbformat_minor":0
}