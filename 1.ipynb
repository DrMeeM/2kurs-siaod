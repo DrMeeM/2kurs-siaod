{
  "cells":[
    {
      "cell_type":"code",
      "source":[
        "# При выборе баскетболистов в командах НБА рассматриваются следующие параметры:\n",
        "#\n",
        "# Рост игрока – ожидаемый диапазон от 190 до 220 см.\n",
        "# Размах рук (иначе говоря, wingspan) – ожидаемый диапазон от 200 до 250 см.\n",
        "# Среднее количество очков за матч – ожидаемый диапазон от 10 до 20.\n",
        "# Среднее количество подборов за матч – ожидаемый диапазон от 2 до 6.\n",
        "# Среднее количество передач за матч – ожидаемый диапазон от 3 до 7.\n",
        "#\n",
        "# Существует четыре категории:\n",
        "# уникальный игрок (таких ещё называют «единорогами» — unicorn) - игрок с сочетанием выдающихся физических данных и игровых навыков;\n",
        "# игрок, достойный выбора в первом раунде;\n",
        "# игрок, достойный выбора во втором раунде;\n",
        "# игрок, которого не стоит выбирать вообще.\n",
        "#\n",
        "# Если у игрока три параметра выше ожидаемого диапазона, \n",
        "# причём среди них обязательно есть рост или размах рук, \n",
        "# то игрок считается игроком 0 категории.\n",
        "# \n",
        "# Игрока рекомендуется выбирать в первом раунде драфта (категория 1), \n",
        "# если верно одно из следующих утверждений:\n",
        "# \n",
        "# У игрока два параметра выше ожидаемого диапазона и ещё один – как минимум в верхней половине ожидаемого диапазона.\n",
        "# У игрока все параметры как минимум в ожидаемом диапазоне и не менее трёх – как минимум в верхней половине.\n",
        "# \n",
        "# Игрока рекомендуется выбирать во втором раунде драфта (категория 2), \n",
        "# если верно одно из следующих утверждений:\n",
        "# \n",
        "# У игрока один параметр выше ожидаемого диапазона и ещё один — как минимум в верхней половине ожидаемого диапазона.\n",
        "# У игрока три параметра как минимум в верхней половине ожидаемого диапазона.\n",
        "# \n",
        "# В остальных случаях тратить выбор драфта на этого игрока не рекомендуется (категория 3)."
      ],
      "execution_count":null,
      "outputs":[
        
      ],
      "metadata":{
        
      }
    },
    {
      "cell_type":"code",
      "source":[
        "pmin=[190, 200, 10, 2, 3] # изначальные данные\n",
        "pmiddle=[210, 225, 15, 4, 5]\n",
        "pmax=[220, 250, 20, 6, 7]"
      ],
      "execution_count":10,
      "outputs":[
        
      ],
      "metadata":{
        
      }
    },
    {
      "cell_type":"code",
      "source":[
        "gamers_amount = int(input()) # ввод данных\n",
        "characteristics = [[0] * 5 for i in range(gamers_amount)]\n",
        "for i in range(gamers_amount):\n",
        "    for j in range(5):\n",
        "        characteristics[i][j] = int(input())"
      ],
      "execution_count":11,
      "outputs":[
        {
          "name":"stdout",
          "text":[
            " 3\n",
            " 230\n",
            " 190\n",
            " 16\n",
            " 7\n",
            " 9\n",
            " 205\n",
            " 225\n",
            " 15\n",
            " 5\n",
            " 2\n",
            " 210\n",
            " 210\n",
            " 30\n",
            " 9\n",
            " 9\n"
          ],
          "output_type":"stream"
        }
      ],
      "metadata":{
        
      }
    },
    {
      "cell_type":"code",
      "source":[
        "for i in range(gamers_amount):\n",
        "    score_great = 0\n",
        "    score_good = 0\n",
        "    score_okay = 0\n",
        "    for j in range(5):\n",
        "        if characteristics[i][j] > pmax[j]:\n",
        "            score_great += 1\n",
        "        if pmax[j] >= characteristics[i][j] >= pmiddle[j]:\n",
        "            score_good += 1\n",
        "        if pmiddle[j] > characteristics[i][j] > pmin[j]:\n",
        "            score_okay += 1\n",
        "    if score_great >= 3 and (characteristics[i][0] > pmax[0] or characteristics[i][1] > pmax[0]):\n",
        "        print(0)\n",
        "    elif score_great >=2 and score_good >= 1 or score_okay == 5 and score_good >= 3:\n",
        "        print(1)\n",
        "    elif score_great >=1 and score_good >=1 or score_good >=3:\n",
        "        print(2)\n",
        "    else: \n",
        "        print(3)\n",
        "\n",
        "        \n",
        "         "
      ],
      "execution_count":12,
      "outputs":[
        {
          "name":"stdout",
          "text":[
            "0\n",
            "2\n",
            "1\n"
          ],
          "output_type":"stream"
        }
      ],
      "metadata":{
        
      }
    },
    {
      "cell_type":"code",
      "source":[
        "# Лабораторная работа #1\n",
        "# Задание: \n",
        "# Реализовать заданный метод сортировки строк числовой матрицы в соответствии с индивидуальным заданием. \n",
        "# Для всех вариантов добавить реализацию быстрой сортировки (quicksort). \n",
        "# Оценить время работы каждого алгоритма сортировки.\n",
        "# Cравнить его со временем стандартной функции сортировки, используемой в выбранном языке программирования (Python)."
      ],
      "execution_count":7,
      "outputs":[
        
      ],
      "metadata":{
        
      }
    },
    {
      "cell_type":"code",
      "source":[
        "def bubble_sort(array):  # Сортировка обменом (bubble sort)\n",
        "    for main_index in range(len(array) - 1):\n",
        "        for index in range(0, len(array) - main_index - 1):\n",
        "            if array[index] > array[index + 1]:\n",
        "                array[index], array[index + 1] = array[index + 1], array[index]\n",
        "    return array"
      ],
      "execution_count":8,
      "outputs":[
        
      ],
      "metadata":{
        
      }
    },
    {
      "cell_type":"code",
      "source":[
        "def default_sort(array):  # Сортировка встроенной функцией .sort\n",
        "    array.sort()\n",
        "    return array"
      ],
      "execution_count":9,
      "outputs":[
        
      ],
      "metadata":{
        
      }
    },
    {
      "cell_type":"code",
      "source":[
        "import random\n",
        "\n",
        "def generate_array(length=100):  # Генерация случайного массива\n",
        "    array = []\n",
        "    while len(array) < length:\n",
        "        array.append(random.randint(0, 1000))\n",
        "    return array\n",
        "\n",
        "init_array = generate_array(1_000)  # Собственно генерация массива в программе"
      ],
      "execution_count":10,
      "outputs":[
        
      ],
      "metadata":{
        
      }
    },
    {
      "cell_type":"code",
      "source":[
        "import timeit\n",
        "\n",
        "# Сортировка массива и вывод времени\n",
        "print(\"Время сортировки по умолчанию - \" + str(timeit.timeit(\"default_sort(init_array)\", number=1, globals=globals())) + \" c\")\n",
        "print(\"Время сортировки обменом - \" + str(timeit.timeit(\"bubble_sort(init_array)\", number=1, globals=globals())) + \" c\")"
      ],
      "execution_count":28,
      "outputs":[
        {
          "name":"stdout",
          "text":[
            "Время сортировки по умолчанию - 1.5029999985927134e-05 c\n",
            "Время сортировки обменом - 0.056634884000004604 c\n"
          ],
          "output_type":"stream"
        }
      ],
      "metadata":{
        
      }
    },
    {
      "cell_type":"code",
      "source":[
        "# Вывод: были изучены методы сортировки, написаны их реализации на языке Python, \n",
        "# а также измерено время сортировки (быстрее оказалась сортировка по умолчанию)"
      ],
      "execution_count":12,
      "outputs":[
        
      ],
      "metadata":{
        
      }
    }
  ],
  "metadata":{
    
  },
  "nbformat":4,
  "nbformat_minor":0
}