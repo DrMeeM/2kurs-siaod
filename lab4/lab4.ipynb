{
  "cells":[
    {
      "cell_type":"markdown",
      "source":[
        "## Лабораторная работа №4. Реализация стека и дека\n",
        "## Задание:\n",
        "- Реализовать следующие структуры данных:\n",
        "\n",
        "  - Стек (stack):\n",
        "      - операции для стека: инициализация, проверка на пустоту, добавление\n",
        "нового элемента в начало, извлечение элемента из начала;\n",
        "\n",
        "  - Дек (двусторонняя очередь, deque):\n",
        "      - операции для дека: инициализация, проверка на пустоту, добавление\n",
        "нового элемента в начало, добавление нового элемента в конец,\n",
        "извлечение элемента из начала, извлечение элемента из конца.\n",
        "\n",
        "- Разработать программу обработки данных, содержащихся в заранее\n",
        "подготовленном txt-файле, в соответствии с заданиями, применив\n",
        "указанную в задании структуру данных. Результат работы программы\n",
        "вывести на экран и сохранить в отдельном txt-файле.\n",
        "\n",
        "## Задания:\n",
        "\n",
        "1. Отсортировать строки файла, содержащие названия книг, в алфавитном порядке с\n",
        "использованием двух деков.\n",
        "\n",
        "2. Дек содержит последовательность символов для шифровки сообщений. Дан\n",
        "текстовый файл, содержащий зашифрованное сообщение. Пользуясь деком,\n",
        "расшифровать текст. Известно, что при шифровке каждый символ сообщения\n",
        "заменялся следующим за ним в деке по часовой стрелке через один.\n",
        "\n",
        "3. Даны три стержня и n дисков различного размера. Диски можно надевать на\n",
        "стержни, образуя из них башни. Перенести n дисков со стержня А на стержень С,\n",
        "сохранив их первоначальный порядок. При переносе дисков необходимо соблюдать\n",
        "следующие правила:\n",
        "\n",
        "\n",
        "- на каждом шаге со стержня на стержень переносить только один диск;\n",
        "- диск нельзя помещать на диск меньшего размера;\n",
        "- для промежуточного хранения можно использовать стержень В.\n",
        "Реализовать алгоритм, используя три стека вместо стержней А, В, С. Информация\n",
        "о дисках хранится в исходном файле.\n",
        "\n",
        "4. Дан текстовый файл с программой на алгоритмическом языке. За один просмотр\n",
        "файла проверить баланс круглых скобок в тексте, используя стек.\n",
        "\n",
        "5. Дан текстовый файл с программой на алгоритмическом языке. За один просмотр\n",
        "файла проверить баланс квадратных скобок в тексте, используя дек.\n",
        "\n",
        "6. Дан файл из символов. Используя стек, за один просмотр файла напечатать\n",
        "сначала все цифры, затем все буквы, и, наконец, все остальные символы, сохраняя\n",
        "исходный порядок в каждой группе символов.\n",
        "\n",
        "7. Дан файл из целых чисел. Используя дек, за один просмотр файла напечатать\n",
        "сначала все отрицательные числа, затем все положительные числа, сохраняя\n",
        "исходный порядок в каждой группе.\n",
        "\n",
        "8. Дан текстовый файл. Используя стек, сформировать новый текстовый файл,\n",
        "содержащий строки исходного файла, записанные в обратном порядке: первая\n",
        "строка становится последней, вторая – предпоследней и т.д.\n",
        "\n",
        "9. Дан текстовый файл. Используя стек, вычислить значение логического выражения,\n",
        "записанного в текстовом файле в следующей форме:\n",
        "< ЛВ > ::= T | F | (N<ЛВ>) | (<ЛВ>A<ЛВ>) | (<ЛВ>X<ЛВ>) | (<ЛВ>O<ЛВ>),\n",
        "где буквами обозначены логические константы и операции:\n",
        "T – True, F – False, N – Not, A – And, X – Xor, O – Or.\n",
        "\n",
        "10. Дан текстовый файл. В текстовом файле записана формула следующего вида:\n",
        "<Формула> ::= <Цифра> | M(<Формула>,<Формула>) | N(Формула>,<Формула>)\n",
        "< Цифра > ::= 0 | 1 | 2 | 3 | 4 | 5 | 6 | 7 | 8 | 9\n",
        "где буквами обозначены функции:\n",
        "M – определение максимума, N – определение минимума.\n",
        "Используя стек, вычислить значение заданного выражения.\n",
        "\n",
        "11. Дан текстовый файл. Используя стек, проверить, является ли содержимое\n",
        "текстового файла правильной записью формулы вида:\n",
        "< Формула > ::= < Терм > | < Терм > + < Формула > | < Терм > - < Формула >\n",
        "< Терм > ::= < Имя > | (< Формула >)\n",
        "< Имя > ::= x | y | z"
      ],
      "metadata":{
        
      }
    },
    {
      "cell_type":"markdown",
      "source":[
        "## Cтек"
      ],
      "metadata":{
        
      }
    },
    {
      "cell_type":"code",
      "source":[
        "class MyStack:\n",
        "\n",
        "    def __init__(self):\n",
        "        self.array = []\n",
        "\n",
        "    def isempty(self):\n",
        "        if self.array is None:\n",
        "            return True\n",
        "        if len(self.array) == 0:\n",
        "            return True\n",
        "        return False\n",
        "\n",
        "    def add(self, element):\n",
        "        self.array.append(element)\n",
        "\n",
        "    def pop(self):\n",
        "        return self.array.pop()\n",
        "\n",
        "    def print(self):\n",
        "        print(self.array)\n",
        "\n",
        "    def __len__(self):\n",
        "        return self.array.__len__()\n",
        "\n",
        "    def peek(self):\n",
        "        return self.array.__getitem__(len(self.array) - 1)"
      ],
      "execution_count":0,
      "outputs":[
        
      ],
      "metadata":{
        
      }
    },
    {
      "cell_type":"markdown",
      "source":[
        "## Пример стека"
      ],
      "metadata":{
        
      }
    },
    {
      "cell_type":"code",
      "source":[
        "stack_my =MyStack()\n",
        "\n",
        "print(stack_my.isempty())\n",
        "stack_my.add(3)\n",
        "stack_my.add(4)\n",
        "\n",
        "print(stack_my.pop())"
      ],
      "execution_count":0,
      "outputs":[
        
      ],
      "metadata":{
        
      }
    },
    {
      "cell_type":"markdown",
      "source":[
        "## Дек"
      ],
      "metadata":{
        
      }
    },
    {
      "cell_type":"code",
      "source":[
        "class DeQue:\n",
        "\n",
        "    def __init__(self):\n",
        "        self.array = []\n",
        "\n",
        "    def empty(self):\n",
        "        if self.array is None:\n",
        "            return True\n",
        "        if len(self.array) == 0:\n",
        "            return True\n",
        "        return False\n",
        "\n",
        "    def addbeginning(self, element):\n",
        "        self.array.insert(0, element)\n",
        "\n",
        "    def addend(self, element):\n",
        "        self.array.append(element)\n",
        "\n",
        "    def popbeginning(self):\n",
        "        return self.array.pop(0)\n",
        "\n",
        "    def popend(self):\n",
        "        return self.array.pop()\n",
        "\n",
        "    def peekbeginning(self):\n",
        "        return self.array.__getitem__(0)\n",
        "\n",
        "    def peekend(self):\n",
        "        return self.array.__getitem__(len(self.array) - 1)\n",
        "\n",
        "    def print(self):\n",
        "        return  print(self.array)"
      ],
      "execution_count":0,
      "outputs":[
        
      ],
      "metadata":{
        
      }
    },
    {
      "cell_type":"markdown",
      "source":[
        "## Пример дека"
      ],
      "metadata":{
        
      }
    },
    {
      "cell_type":"code",
      "source":[
        "deque_my = DeQue()\n",
        "\n",
        "print(deque_my.empty())\n",
        "\n",
        "deque_my.addbeginning(2)\n",
        "deque_my.addbeginning(3)\n",
        "deque_my.addend(5)\n",
        "deque_my.addend(6)\n",
        "\n",
        "print(deque_my.popbeginning())\n",
        "print(deque_my.popend())"
      ],
      "execution_count":0,
      "outputs":[
        
      ],
      "metadata":{
        
      }
    },
    {
      "cell_type":"markdown",
      "source":[
        "## ЗАДАЧИ:"
      ],
      "metadata":{
        
      }
    },
    {
      "cell_type":"markdown",
      "source":[
        "### №1"
      ],
      "metadata":{
        
      }
    },
    {
      "cell_type":"code",
      "source":[
        "\n",
        "def task1(file_name):\n",
        "    file = open(file_name, encoding='utf-8')\n",
        "    deque_t1_buffer = DeQue()\n",
        "    deque_t1_main = DeQue()\n",
        "\n",
        "    for line in file:\n",
        "        deque_t1_buffer.addend(line)\n",
        "\n",
        "    while not deque_t1_buffer.empty():\n",
        "        if deque_t1_main.empty():\n",
        "            deque_t1_main.addend(deque_t1_buffer.popend())\n",
        "\n",
        "        if deque_t1_main.peekend()[0] <= deque_t1_buffer.peekend()[0]:\n",
        "            deque_t1_main.addend(deque_t1_buffer.popend())\n",
        "        elif deque_t1_main.peekbeginning()[0] > deque_t1_buffer.peekend()[0]:\n",
        "            deque_t1_main.addbeginning(deque_t1_buffer.popend())\n",
        "        else:\n",
        "            deque_t1_buffer.addbeginning(deque_t1_main.popbeginning())\n",
        "    return deque_t1_main\n",
        "\n",
        "\n",
        "deque_t1_main = task1('task1_in.txt')\n",
        "\n",
        "file = open('task1_out.txt', 'w')\n",
        "while not deque_t1_main.empty():\n",
        "    file.write(deque_t1_main.popbeginning())"
      ],
      "execution_count":1,
      "outputs":[
      ],
      "metadata":{
        
      }
    },
    {
      "cell_type":"markdown",
      "source":[
        "### №2"
      ],
      "metadata":{
        
      }
    },
    {
      "cell_type":"code",
      "source":[
        "def task2(file_name):\n",
        "    file = open(file_name, encoding='utf-8')\n",
        "\n",
        "    deque_t2_encoder = DeQue()\n",
        "    # формируем дек\n",
        "    for i in range(32):\n",
        "        deque_t2_encoder.addend(str(ord(\"а\") + i))\n",
        "    deque_t2_encoder.addend(str(ord(\" \")))\n",
        "\n",
        "    s_message = ''\n",
        "    for line in file:\n",
        "        for sym in line:\n",
        "            while sym != chr(int(deque_t2_encoder.peekend())):\n",
        "                deque_t2_encoder.addbeginning(deque_t2_encoder.popend())\n",
        "\n",
        "            deque_t2_encoder.addbeginning(deque_t2_encoder.popend())\n",
        "            deque_t2_encoder.addbeginning(deque_t2_encoder.popend())\n",
        "            s_message += chr(int(deque_t2_encoder.peekend()))\n",
        "    return s_message\n",
        "\n",
        "\n",
        "\n",
        "s_message = task2('task2_in.txt')\n",
        "\n",
        "file = open('task2_out.txt', 'w')\n",
        "\n",
        "file.write(s_message)"
      ],
      "execution_count":0,
      "outputs":[
        
      ],
      "metadata":{
        
      }
    },
    {
      "cell_type":"markdown",
      "source":[
        "### №3"
      ],
      "metadata":{
        
      }
    },
    {
      "cell_type":"code",
      "source":[
        "A = MyStack()\n",
        "B = MyStack()\n",
        "C = MyStack()\n",
        "\n",
        "file = open('task3_in.txt')\n",
        "\n",
        "disks = int(file.readline())\n",
        "for i in range(disks, 0, -1):\n",
        "    A.add(i)\n",
        "\n",
        "def move(a, b):\n",
        "    # если исп.стек пустой и след. > 0\n",
        "    if len(a) == 0 and len(b) > 0:\n",
        "        #удаляем из b и перекладываем в a\n",
        "        a.add(b.pop())\n",
        "    elif len(a) > 0 and len(b) == 0:\n",
        "        b.add(a.pop())\n",
        "    #сравниваем первые элементы\n",
        "    elif a.peek() > b.peek():\n",
        "        a.add(b.pop())\n",
        "    else:\n",
        "        b.add(a.pop())\n",
        "\n",
        "def task3(A, B, C):\n",
        "    if disks % 2 == 0:\n",
        "        while len(C) != disks:\n",
        "            move(A, B)\n",
        "            move(A, C)\n",
        "            move(B, C)\n",
        "    else:\n",
        "        while len(C) != disks:\n",
        "            move(A, C)\n",
        "            move(A, B)\n",
        "            move(C, B)\n",
        "            move(A, C)\n",
        "            move(B, A)\n",
        "            move(B, C)\n",
        "            move(A, C)\n",
        "\n",
        "task3(A, B, C)\n",
        "\n",
        "file = open('task3_out.txt', 'w')\n",
        "while not C.isempty():\n",
        "    file.write(str(C.pop()) + '\\n')"
      ],
      "execution_count":0,
      "outputs":[
        
      ],
      "metadata":{
        
      }
    },
    {
      "cell_type":"markdown",
      "source":[
        "### №4"
      ],
      "metadata":{
        
      }
    },
    {
      "cell_type":"code",
      "source":[
        "def task4(file_name):\n",
        "    file = open(file_name)\n",
        "\n",
        "    stack_t4 = MyStack()\n",
        "\n",
        "    for line in file:\n",
        "        for sym in line:\n",
        "            if sym == '(':\n",
        "                stack_t4.add(\"not_balanced\")\n",
        "            elif sym == ')':\n",
        "                if stack_t4.isempty():\n",
        "                    stack_t4.add(\"not_balanced\")\n",
        "                    break\n",
        "                else:\n",
        "                    stack_t4.pop()\n",
        "    return stack_t4\n",
        "\n",
        "stack_t4 = task4('task4_in.txt')\n",
        "\n",
        "file = open('task4_out.txt', 'w')\n",
        "\n",
        "if stack_t4.isempty():\n",
        "    file.write(\"Balanced\")\n",
        "else:\n",
        "    file.write(\"Not balanced\")"
      ],
      "execution_count":0,
      "outputs":[
        
      ],
      "metadata":{
        
      }
    },
    {
      "cell_type":"markdown",
      "source":[
        "### №5"
      ],
      "metadata":{
        
      }
    },
    {
      "cell_type":"code",
      "source":[
        "def task5(file_name):\n",
        "    file = open(file_name)\n",
        "\n",
        "    deque_t5 = DeQue()\n",
        "\n",
        "    for line in file:\n",
        "        for sym in line:\n",
        "            if sym == '[':\n",
        "                stack_t4.add(\"not_balanced\")\n",
        "            elif sym == ']':\n",
        "                if stack_t4.isempty():\n",
        "                    stack_t4.add(\"not_balanced\")\n",
        "                    break\n",
        "                else:\n",
        "                    stack_t4.pop()\n",
        "    return deque_t5\n",
        "\n",
        "\n",
        "deque_t5 = task5('task5_in.txt')\n",
        "file = open('task5_out.txt', 'w')\n",
        "\n",
        "if deque_t5.empty():\n",
        "    file.write(\"Balanced\")\n",
        "else:\n",
        "    file.write(\"Not balanced\")"
      ],
      "execution_count":0,
      "outputs":[
        
      ],
      "metadata":{
        
      }
    },
    {
      "cell_type":"markdown",
      "source":[
        "### №6"
      ],
      "metadata":{
        
      }
    },
    {
      "cell_type":"code",
      "source":[
        "def task6(file_name):\n",
        "    file = open(file_name)\n",
        "\n",
        "    stack_symbols = MyStack()\n",
        "    stack_numbers = MyStack()\n",
        "    stack_other = MyStack()\n",
        "\n",
        "    for line in file:\n",
        "        for sym in line:\n",
        "            if '9' >= sym[0] >= '0':\n",
        "                stack_numbers.add(sym)\n",
        "            elif 'A' <= sym[0] <= 'z':\n",
        "                stack_symbols.add(sym)\n",
        "            else:\n",
        "                stack_other.add(sym)\n",
        "    return stack_symbols, stack_numbers, stack_other\n",
        "\n",
        "stack_symbols, stack_numbers, stack_other = task6('task6_in.txt')\n",
        "\n",
        "stack_symbols_revers = MyStack()\n",
        "stack_numbers_revers = MyStack()\n",
        "stack_other_revers = MyStack()\n",
        "\n",
        "while not stack_numbers.isempty():\n",
        "    stack_numbers_revers.add(stack_numbers.pop())\n",
        "while not stack_symbols.isempty():\n",
        "    stack_symbols_revers.add(stack_symbols.pop())\n",
        "while not stack_other.isempty():\n",
        "    stack_other_revers.add(stack_other.pop())\n",
        "\n",
        "file = open('task6_out.txt', 'w')\n",
        "\n",
        "while not stack_numbers_revers.isempty():\n",
        "    file.write(stack_numbers_revers.pop())\n",
        "file.write('\\n')\n",
        "while not stack_symbols_revers.isempty():\n",
        "    file.write(stack_symbols_revers.pop())\n",
        "file.write('\\n')\n",
        "while not stack_other_revers.isempty():\n",
        "    file.write(stack_other_revers.pop())"
      ],
      "execution_count":0,
      "outputs":[
        
      ],
      "metadata":{
        
      }
    },
    {
      "cell_type":"markdown",
      "source":[
        "### №7"
      ],
      "metadata":{
        
      }
    },
    {
      "cell_type":"code",
      "source":[
        "def task7(file_name):\n",
        "    file = open(file_name)\n",
        "\n",
        "    stack_t7_neg = MyStack()\n",
        "    stack_t7_pos = MyStack()\n",
        "\n",
        "    f_positive = True\n",
        "    for line in file:\n",
        "        for sym in line:\n",
        "            if sym == '-':\n",
        "                f_positive = False\n",
        "                continue\n",
        "            if sym != ' ':\n",
        "                if f_positive:\n",
        "                    stack_t7_pos.add(sym)\n",
        "                else:\n",
        "                    stack_t7_neg.add('-' + sym)\n",
        "                    f_positive = True\n",
        "    return stack_t7_neg, stack_t7_pos\n",
        "\n",
        "\n",
        "stack_t7_neg, stack_t7_pos = task7('task7_in.txt')\n",
        "\n",
        "\n",
        "stack_t7_neg_revers = MyStack()\n",
        "stack_t7_pos_revers = MyStack()\n",
        "\n",
        "while not stack_t7_neg.isempty():\n",
        "    stack_t7_neg_revers.add(stack_t7_neg.pop())\n",
        "while not stack_t7_pos.isempty():\n",
        "    stack_t7_pos_revers.add(stack_t7_pos.pop())\n",
        "\n",
        "file = open('task7_out.txt', 'w')\n",
        "\n",
        "while not stack_t7_neg_revers.isempty():\n",
        "    file.write(stack_t7_neg_revers.pop() + ' ')\n",
        "file.write('\\n')\n",
        "while not stack_t7_pos_revers.isempty():\n",
        "    file.write(stack_t7_pos_revers.pop() + \" \")"
      ],
      "execution_count":0,
      "outputs":[
        
      ],
      "metadata":{
        
      }
    },
    {
      "cell_type":"markdown",
      "source":[
        "### №8"
      ],
      "metadata":{
        
      }
    },
    {
      "cell_type":"code",
      "source":[
        "def task8(file_name):\n",
        "    file = open(file_name, encoding='utf-8')\n",
        "\n",
        "    stack_t8_lines = MyStack()\n",
        "\n",
        "    for line in file:\n",
        "        stack_t8_lines.add(line)\n",
        "    return stack_t8_lines\n",
        "\n",
        "\n",
        "stack_t8_lines = task8('task8_in.txt')\n",
        "\n",
        "file = open('task8_out.txt', 'w')\n",
        "\n",
        "while not stack_t8_lines.isempty():\n",
        "    file.write(stack_t8_lines.pop())"
      ],
      "execution_count":0,
      "outputs":[
        
      ],
      "metadata":{
        
      }
    },
    {
      "cell_type":"markdown",
      "source":[
        "### №9"
      ],
      "metadata":{
        
      }
    },
    {
      "cell_type":"code",
      "source":[
        "def lv(string):\n",
        "    stack_ans = MyStack()\n",
        "\n",
        "    if string == \"T\":\n",
        "        return True\n",
        "    if string == \"F\":\n",
        "        return False\n",
        "\n",
        "    go_deeper = False\n",
        "    new_lv = ''\n",
        "    brackets = 1\n",
        "\n",
        "    first_iter_skip = False\n",
        "    for i in string:\n",
        "        if not first_iter_skip:\n",
        "            first_iter_skip = True\n",
        "            continue\n",
        "        if i == '(':\n",
        "            brackets += 1\n",
        "\n",
        "        if string[1] == i:\n",
        "            go_deeper = True\n",
        "            if i == 'N':\n",
        "                stack_ans.add('N')\n",
        "                continue\n",
        "\n",
        "        if i == ')':\n",
        "            brackets -= 1\n",
        "            if brackets == 0:\n",
        "                go_deeper = False\n",
        "                stack_ans.add(lv(new_lv))\n",
        "        if (i == 'A' or i == 'X' or i == 'O') and brackets == 1:\n",
        "            stack_ans.add(i)\n",
        "            stack_ans.add(lv(new_lv))\n",
        "            new_lv = ''\n",
        "            continue\n",
        "\n",
        "        if go_deeper:\n",
        "            new_lv += i\n",
        "\n",
        "    bool2 = stack_ans.pop()\n",
        "    if isinstance(stack_ans.peek(), bool):\n",
        "        bool1 = stack_ans.pop()\n",
        "    our_case = stack_ans.pop()\n",
        "    if our_case == 'N':\n",
        "        return not bool2\n",
        "    if our_case == 'A':\n",
        "        return bool1 and bool2\n",
        "    if our_case == 'X':\n",
        "        return bool1 != bool2\n",
        "    if our_case == 'O':\n",
        "        return bool1 or bool2\n",
        "\n",
        "file = open('task9_in.txt')\n",
        "\n",
        "ans = lv(file.readline())\n",
        "\n",
        "file = open('task9_out.txt', 'w')\n",
        "\n",
        "if ans:\n",
        "    file.write(\"True\")\n",
        "else:\n",
        "    file.write(\"False\")"
      ],
      "execution_count":0,
      "outputs":[
        
      ],
      "metadata":{
        
      }
    },
    {
      "cell_type":"markdown",
      "source":[
        "### №10"
      ],
      "metadata":{
        
      }
    },
    {
      "cell_type":"code",
      "source":[
        "def formula(string):\n",
        "    stack_ans = MyStack()\n",
        "\n",
        "    if string[0] != \"M\" and string[0] != \"N\":\n",
        "        return int(string)\n",
        "    else:\n",
        "        stack_ans.add(string[0])\n",
        "\n",
        "    go_deeper = True\n",
        "    new_formula = ''\n",
        "    brackets = 1\n",
        "    i = 1\n",
        "    while i < len(string) - 1:\n",
        "        i += 1\n",
        "        if string[i] == '(':\n",
        "            brackets += 1\n",
        "\n",
        "        if string[i] == ')':\n",
        "            brackets -= 1\n",
        "            if brackets == 0:\n",
        "                go_deeper = False\n",
        "                stack_ans.add(formula(new_formula))\n",
        "        if string[i] == ',' and brackets == 1:\n",
        "            stack_ans.add(formula(new_formula))\n",
        "            new_formula = ''\n",
        "            continue\n",
        "\n",
        "        if go_deeper:\n",
        "            new_formula += string[i]\n",
        "\n",
        "\n",
        "    int2 = stack_ans.pop()\n",
        "    if isinstance(stack_ans.peek(), int):\n",
        "        int1 = stack_ans.pop()\n",
        "    our_case = stack_ans.pop()\n",
        "    if our_case == 'M':\n",
        "        if int1 >= int2:\n",
        "            return int1\n",
        "        else:\n",
        "            return int2\n",
        "    if our_case == 'N':\n",
        "        if int1 <= int2:\n",
        "            return int1\n",
        "        else:\n",
        "            return int2\n",
        "\n",
        "\n",
        "file = open('task10_in.txt')\n",
        "\n",
        "ans = formula(file.readline())\n",
        "\n",
        "file = open('task10_out.txt', 'w')\n",
        "\n",
        "file.write(str(ans))"
      ],
      "execution_count":0,
      "outputs":[
        
      ],
      "metadata":{
        
      }
    },
    {
      "cell_type":"markdown",
      "source":[
        "### №11"
      ],
      "metadata":{
        
      }
    },
    {
      "cell_type":"code",
      "source":[
        "def formula_check(stack_symbols_revers, brackets_balance=0, should_be='term'):\n",
        "\n",
        "    result = None\n",
        "    buffer = ''\n",
        "    while not stack_symbols_revers.isempty():\n",
        "        buffer = stack_symbols_revers.pop()\n",
        "        if buffer == ')':\n",
        "            brackets_balance -= 1\n",
        "            result = formula_check(stack_symbols_revers, brackets_balance=brackets_balance, should_be='formula')\n",
        "            continue\n",
        "\n",
        "        if should_be == 'term':\n",
        "            if buffer != 'x' and buffer != 'y' and buffer != 'z' and buffer != '(':\n",
        "                return False\n",
        "            if buffer == 'x' or buffer == 'y' or buffer == 'z':\n",
        "                should_be = 'formula'\n",
        "            if buffer == '(':\n",
        "                result = formula_check(stack_symbols_revers, brackets_balance=brackets_balance+1)\n",
        "        elif should_be == 'formula':\n",
        "            if buffer != '+' and buffer != '-':\n",
        "                return False\n",
        "            result = formula_check(stack_symbols_revers, brackets_balance=brackets_balance)\n",
        "\n",
        "    if result is not None:\n",
        "        return result\n",
        "    if brackets_balance != 0:\n",
        "        return False\n",
        "    return True\n",
        "\n",
        "\n",
        "file = open('task11_in.txt')\n",
        "\n",
        "stack_t11 = MyStack()\n",
        "stack_t11_revers = MyStack()\n",
        "\n",
        "for line in file:\n",
        "    for sym in line:\n",
        "        stack_t11.add(sym)\n",
        "\n",
        "while not stack_t11.isempty():\n",
        "    stack_t11_revers.add(stack_t11.pop())\n",
        "\n",
        "file = open('task11_out.txt', 'w')\n",
        "\n",
        "if formula_check(stack_t11_revers):\n",
        "    file.write('True')\n",
        "else:\n",
        "    file.write('False')"
      ],
      "execution_count":0,
      "outputs":[
        
      ],
      "metadata":{
        
      }
    }
  ],
  "metadata":{
    
  },
  "nbformat":4,
  "nbformat_minor":0
}
